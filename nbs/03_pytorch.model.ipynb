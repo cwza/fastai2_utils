{
 "cells": [
  {
   "cell_type": "code",
   "execution_count": null,
   "metadata": {},
   "outputs": [],
   "source": [
    "# export\n",
    "from typing import List\n",
    "from fastai2.basics import *\n",
    "from fastai2.callback.hook import *\n",
    "from fastai2.imports import *"
   ]
  },
  {
   "cell_type": "code",
   "execution_count": null,
   "metadata": {},
   "outputs": [],
   "source": [
    "# default_exp pytorch.model"
   ]
  },
  {
   "cell_type": "markdown",
   "metadata": {},
   "source": [
    "# Pytorch Model\n",
    "> Utils about torch.nn.Module"
   ]
  },
  {
   "cell_type": "markdown",
   "metadata": {},
   "source": [
    "## freeze"
   ]
  },
  {
   "cell_type": "code",
   "execution_count": null,
   "metadata": {},
   "outputs": [],
   "source": [
    "# export\n",
    "def check_requires_grad(layers: List[nn.Module], grad: bool):\n",
    "    \" check whether reauires_grad of all params in layers is grad \"\n",
    "    grads = []\n",
    "    param_groups = list(map(params, layers)) # [list of params in layer1, list of params in group2, ....]\n",
    "    for param_group in param_groups: \n",
    "        for param in param_group:\n",
    "            grads.append(param.requires_grad)\n",
    "    if grad==True and all(grads)==True: return True\n",
    "    elif grad==False and all(grads)==False: return True\n",
    "    else: return False"
   ]
  },
  {
   "cell_type": "code",
   "execution_count": null,
   "metadata": {},
   "outputs": [],
   "source": [
    "# export\n",
    "def set_requires_grad(layers: List[nn.Module], to: bool):\n",
    "    \"set requires_grad of params in layers to to\"\n",
    "    param_groups = list(map(params, layers)) # [list of params in layer1, list of params in group2, ....]\n",
    "    for param_group in param_groups: \n",
    "        for param in param_group:\n",
    "            param.requires_grad_(to)"
   ]
  },
  {
   "cell_type": "code",
   "execution_count": null,
   "metadata": {},
   "outputs": [],
   "source": [
    "layers = [nn.Linear(1, 1), nn.BatchNorm1d(1)]\n",
    "set_requires_grad(layers, False)\n",
    "test_eq(check_requires_grad(layers, False), True)\n",
    "set_requires_grad(layers, True)\n",
    "test_eq(check_requires_grad(layers, True), True)"
   ]
  },
  {
   "cell_type": "code",
   "execution_count": null,
   "metadata": {},
   "outputs": [],
   "source": [
    "# export\n",
    "def freeze_to(layers: List[nn.Module], n: int):\n",
    "    ''' set requires_grad_ to False of layers[:n] and set requires_grad_ to True of layers[n:] '''\n",
    "    freeze_layers = layers[slice(None, n)]\n",
    "    unfreeze_layers = layers[slice(n, None)]\n",
    "    set_requires_grad(freeze_layers, False)\n",
    "    set_requires_grad(unfreeze_layers, True)"
   ]
  },
  {
   "cell_type": "code",
   "execution_count": null,
   "metadata": {},
   "outputs": [],
   "source": [
    "layers = [nn.Linear(1, 1), nn.Linear(1, 1), nn.BatchNorm1d(1)]\n",
    "freeze_to(layers, 1)\n",
    "test_eq(check_requires_grad(layers[:1], False), True)\n",
    "test_eq(check_requires_grad(layers[1:], True), True)"
   ]
  },
  {
   "cell_type": "code",
   "execution_count": null,
   "metadata": {},
   "outputs": [
    {
     "data": {
      "text/plain": [
       "TestModel (Input shape: ['16 x 1'])\n",
       "================================================================\n",
       "Layer (type)         Output Shape         Param #    Trainable \n",
       "================================================================\n",
       "Linear               16 x 50              100        False     \n",
       "________________________________________________________________\n",
       "ReLU                 16 x 50              0          False     \n",
       "________________________________________________________________\n",
       "BatchNorm1d          16 x 50              100        False     \n",
       "________________________________________________________________\n",
       "Linear               16 x 10              510        True      \n",
       "________________________________________________________________\n",
       "\n",
       "Total params: 710\n",
       "Total trainable params: 510\n",
       "Total non-trainable params: 200\n"
      ]
     },
     "execution_count": null,
     "metadata": {},
     "output_type": "execute_result"
    }
   ],
   "source": [
    "class TestModel(nn.Module):\n",
    "    def __init__(self):\n",
    "        super().__init__()\n",
    "        self.linears = nn.Sequential(nn.Linear(1,50), nn.ReLU(), nn.BatchNorm1d(50))\n",
    "        self.classifier = nn.Linear(50, 10)\n",
    "    def forward(self, x):\n",
    "        return self.classifier(self.linears(x))\n",
    "m = TestModel()\n",
    "layers = [*m.linears, m.classifier]\n",
    "freeze_to(layers, -1)\n",
    "sample_input = torch.randn((16, 1))\n",
    "m.summary(sample_input)"
   ]
  },
  {
   "cell_type": "markdown",
   "metadata": {},
   "source": [
    "## Export -"
   ]
  },
  {
   "cell_type": "code",
   "execution_count": null,
   "metadata": {},
   "outputs": [
    {
     "name": "stdout",
     "output_type": "stream",
     "text": [
      "Converted 01_data.core.ipynb.\n",
      "Converted 02_pytorch.transformer.ipynb.\n",
      "Converted 03_pytorch.model.ipynb.\n",
      "Converted 04_callback.optuna.ipynb.\n",
      "Converted index.ipynb.\n"
     ]
    }
   ],
   "source": [
    "# hide\n",
    "from nbdev.export import notebook2script\n",
    "notebook2script()"
   ]
  },
  {
   "cell_type": "code",
   "execution_count": null,
   "metadata": {},
   "outputs": [],
   "source": []
  }
 ],
 "metadata": {
  "kernelspec": {
   "display_name": "Python 3",
   "language": "python",
   "name": "python3"
  }
 },
 "nbformat": 4,
 "nbformat_minor": 4
}
