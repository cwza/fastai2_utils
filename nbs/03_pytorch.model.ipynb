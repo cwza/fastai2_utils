{
 "cells": [
  {
   "cell_type": "code",
   "execution_count": null,
   "metadata": {},
   "outputs": [],
   "source": [
    "# export\n",
    "from typing import List\n",
    "from fastai2.basics import *\n",
    "from fastai2.callback.hook import *\n",
    "from fastai2.imports import *"
   ]
  },
  {
   "cell_type": "code",
   "execution_count": null,
   "metadata": {},
   "outputs": [],
   "source": [
    "# default_exp pytorch.model"
   ]
  },
  {
   "cell_type": "markdown",
   "metadata": {},
   "source": [
    "# Pytorch Model\n",
    "> Utils about torch.nn.Module"
   ]
  },
  {
   "cell_type": "markdown",
   "metadata": {},
   "source": [
    "## model.summary(sample_inputs)"
   ]
  },
  {
   "cell_type": "code",
   "execution_count": null,
   "metadata": {},
   "outputs": [],
   "source": [
    "# export\n",
    "def layer_info(model: nn.Module, *sample_inputs):\n",
    "    \"sample_inputs: sample_inputs of your model, only support batch first inputs\"\n",
    "    def _track(m, i, o):\n",
    "        return (m.__class__.__name__,)+total_params(m)+(apply(lambda x:x.shape, o),)\n",
    "    layers = [m for m in flatten_model(model)]\n",
    "    with Hooks(layers, _track) as h:\n",
    "        _ = model.eval()(*apply(lambda o:o[:1], sample_inputs))\n",
    "        return sample_inputs,h.stored"
   ]
  },
  {
   "cell_type": "code",
   "execution_count": null,
   "metadata": {},
   "outputs": [],
   "source": [
    "m = nn.Sequential(nn.Linear(1,50), nn.ReLU(), nn.BatchNorm1d(50), nn.Linear(50, 1))\n",
    "sample_input = torch.randn((16, 1))\n",
    "test_eq(layer_info(m, sample_input)[1], [\n",
    "    ('Linear', 100, True, [1, 50]),\n",
    "    ('ReLU', 0, False, [1, 50]),\n",
    "    ('BatchNorm1d', 100, True, [1, 50]),\n",
    "    ('Linear', 51, True, [1, 1])\n",
    "])"
   ]
  },
  {
   "cell_type": "code",
   "execution_count": null,
   "metadata": {},
   "outputs": [],
   "source": [
    "# Test for multiple inputs model\n",
    "class _2InpModel(Module):\n",
    "    def __init__(self):\n",
    "        super().__init__()\n",
    "        self.seq = nn.Sequential(nn.Linear(2,50), nn.ReLU(), nn.BatchNorm1d(50), nn.Linear(50, 1))\n",
    "    def forward(self, *inps):\n",
    "        outputs = torch.cat(inps, dim=-1)\n",
    "        return self.seq(outputs)\n",
    "\n",
    "\n",
    "m = _2InpModel()\n",
    "sample_inputs = (torch.randn(16, 1), torch.randn(16, 1))\n",
    "test_eq(layer_info(m, *sample_inputs)[1], [\n",
    "    ('Linear', 150, True, [1, 50]),\n",
    "    ('ReLU', 0, False, [1, 50]),\n",
    "    ('BatchNorm1d', 100, True, [1, 50]),\n",
    "    ('Linear', 51, True, [1, 1])\n",
    "])"
   ]
  },
  {
   "cell_type": "code",
   "execution_count": null,
   "metadata": {},
   "outputs": [],
   "source": [
    "# export\n",
    "def _print_shapes(o, bs):\n",
    "    if isinstance(o, torch.Size): return ' x '.join([str(bs)] + [str(t) for t in o[1:]])\n",
    "    else: return str([_print_shapes(x, bs) for x in o])"
   ]
  },
  {
   "cell_type": "code",
   "execution_count": null,
   "metadata": {},
   "outputs": [],
   "source": [
    "# export\n",
    "@patch\n",
    "def summary(self: nn.Module, *sample_inputs):\n",
    "    ''' Print a summary of the model\n",
    "        sample_inputs: sample inputs of your model, only support batch first inputs\n",
    "    '''\n",
    "    sample_inputs,infos = layer_info(self, *sample_inputs)\n",
    "    n,bs = 64,find_bs(sample_inputs)\n",
    "    inp_sz = _print_shapes(apply(lambda x:x.shape, sample_inputs), bs)\n",
    "    res = f\"{self.__class__.__name__} (Input shape: {inp_sz})\\n\"\n",
    "    res += \"=\" * n + \"\\n\"\n",
    "    res += f\"{'Layer (type)':<20} {'Output Shape':<20} {'Param #':<10} {'Trainable':<10}\\n\"\n",
    "    res += \"=\" * n + \"\\n\"\n",
    "    ps,trn_ps = 0,0\n",
    "    infos = [o for o in infos if o is not None] #see comment in previous cell\n",
    "    for typ,np,trn,sz in infos:\n",
    "        if sz is None: continue\n",
    "        ps += np\n",
    "        if trn: trn_ps += np\n",
    "        res += f\"{typ:<20} {_print_shapes(sz, bs)[:19]:<20} {np:<10,} {str(trn):<10}\\n\"\n",
    "        res += \"_\" * n + \"\\n\"\n",
    "    res += f\"\\nTotal params: {ps:,}\\n\"\n",
    "    res += f\"Total trainable params: {trn_ps:,}\\n\"\n",
    "    res += f\"Total non-trainable params: {ps - trn_ps:,}\\n\\n\"\n",
    "#     res += f\"Optimizer used: {self.opt_func}\\nLoss function: {self.loss_func}\\n\\n\"\n",
    "#     if self.opt is not None:\n",
    "#         res += f\"Model \" + (\"unfrozen\\n\\n\" if self.opt.frozen_idx==0 else f\"frozen up to parameter group number {self.opt.frozen_idx}\\n\\n\")\n",
    "#     res += \"Callbacks:\\n\" + '\\n'.join(f\"  - {cb}\" for cb in sort_by_run(self.cbs))\n",
    "    return PrettyString(res)\n",
    "    "
   ]
  },
  {
   "cell_type": "code",
   "execution_count": null,
   "metadata": {},
   "outputs": [
    {
     "data": {
      "text/plain": [
       "Sequential (Input shape: ['16 x 1'])\n",
       "================================================================\n",
       "Layer (type)         Output Shape         Param #    Trainable \n",
       "================================================================\n",
       "Linear               16 x 50              100        False     \n",
       "________________________________________________________________\n",
       "ReLU                 16 x 50              0          False     \n",
       "________________________________________________________________\n",
       "BatchNorm1d          16 x 50              100        True      \n",
       "________________________________________________________________\n",
       "Linear               16 x 1               51         True      \n",
       "________________________________________________________________\n",
       "\n",
       "Total params: 251\n",
       "Total trainable params: 151\n",
       "Total non-trainable params: 100\n"
      ]
     },
     "execution_count": null,
     "metadata": {},
     "output_type": "execute_result"
    }
   ],
   "source": [
    "m = nn.Sequential(nn.Linear(1,50), nn.ReLU(), nn.BatchNorm1d(50), nn.Linear(50, 1))\n",
    "for p in m[0].parameters(): p.requires_grad_(False)\n",
    "sample_input = torch.randn((16, 1))\n",
    "m.summary(sample_input)"
   ]
  },
  {
   "cell_type": "code",
   "execution_count": null,
   "metadata": {},
   "outputs": [
    {
     "data": {
      "text/plain": [
       "_2OutModel (Input shape: ['16 x 1'])\n",
       "================================================================\n",
       "Layer (type)         Output Shape         Param #    Trainable \n",
       "================================================================\n",
       "_2OutModel           ['16 x 16 x 256', '  0          False     \n",
       "________________________________________________________________\n",
       "\n",
       "Total params: 0\n",
       "Total trainable params: 0\n",
       "Total non-trainable params: 0\n"
      ]
     },
     "execution_count": null,
     "metadata": {},
     "output_type": "execute_result"
    }
   ],
   "source": [
    "# Test for multiple outputs model\n",
    "class _2OutModel(nn.Module):\n",
    "    def forward(self, x1):\n",
    "        seq_len, bs, hid_size = 50, 16, 256\n",
    "        num_layer = 1\n",
    "        return torch.randn((seq_len, bs, hid_size)), torch.randn((num_layer, bs, hid_size))\n",
    "m = _2OutModel()\n",
    "m.summary(torch.randn((16, 1))) # Output Shape should be (50, 16, 256), (1, 16, 256)"
   ]
  },
  {
   "cell_type": "markdown",
   "metadata": {},
   "source": [
    "## freeze"
   ]
  },
  {
   "cell_type": "code",
   "execution_count": null,
   "metadata": {},
   "outputs": [],
   "source": [
    "# export\n",
    "def check_requires_grad(layers: List[nn.Module], grad: bool):\n",
    "    \" check whether reauires_grad of all params in layers is grad \"\n",
    "    grads = []\n",
    "    param_groups = list(map(params, layers)) # [list of params in layer1, list of params in group2, ....]\n",
    "    for param_group in param_groups: \n",
    "        for param in param_group:\n",
    "            grads.append(param.requires_grad)\n",
    "    if grad==True and all(grads)==True: return True\n",
    "    elif grad==False and all(grads)==False: return True\n",
    "    else: return False"
   ]
  },
  {
   "cell_type": "code",
   "execution_count": null,
   "metadata": {},
   "outputs": [],
   "source": [
    "# export\n",
    "def set_requires_grad(layers: List[nn.Module], to: bool):\n",
    "    \"set requires_grad of params in layers to to\"\n",
    "    param_groups = list(map(params, layers)) # [list of params in layer1, list of params in group2, ....]\n",
    "    for param_group in param_groups: \n",
    "        for param in param_group:\n",
    "            param.requires_grad_(to)"
   ]
  },
  {
   "cell_type": "code",
   "execution_count": null,
   "metadata": {},
   "outputs": [],
   "source": [
    "layers = [nn.Linear(1, 1), nn.BatchNorm1d(1)]\n",
    "set_requires_grad(layers, False)\n",
    "test_eq(check_requires_grad(layers, False), True)\n",
    "set_requires_grad(layers, True)\n",
    "test_eq(check_requires_grad(layers, True), True)"
   ]
  },
  {
   "cell_type": "code",
   "execution_count": null,
   "metadata": {},
   "outputs": [],
   "source": [
    "# export\n",
    "def freeze_to(layers: List[nn.Module], n: int):\n",
    "    ''' set requires_grad_ to False of layers[:n] and set requires_grad_ to True of layers[n:] '''\n",
    "    freeze_layers = layers[slice(None, n)]\n",
    "    unfreeze_layers = layers[slice(n, None)]\n",
    "    set_requires_grad(freeze_layers, False)\n",
    "    set_requires_grad(unfreeze_layers, True)"
   ]
  },
  {
   "cell_type": "code",
   "execution_count": null,
   "metadata": {},
   "outputs": [],
   "source": [
    "layers = [nn.Linear(1, 1), nn.Linear(1, 1), nn.BatchNorm1d(1)]\n",
    "freeze_to(layers, 1)\n",
    "test_eq(check_requires_grad(layers[:1], False), True)\n",
    "test_eq(check_requires_grad(layers[1:], True), True)"
   ]
  },
  {
   "cell_type": "code",
   "execution_count": null,
   "metadata": {},
   "outputs": [
    {
     "data": {
      "text/plain": [
       "TestModel (Input shape: ['16 x 1'])\n",
       "================================================================\n",
       "Layer (type)         Output Shape         Param #    Trainable \n",
       "================================================================\n",
       "Linear               16 x 50              100        False     \n",
       "________________________________________________________________\n",
       "ReLU                 16 x 50              0          False     \n",
       "________________________________________________________________\n",
       "BatchNorm1d          16 x 50              100        False     \n",
       "________________________________________________________________\n",
       "Linear               16 x 10              510        True      \n",
       "________________________________________________________________\n",
       "\n",
       "Total params: 710\n",
       "Total trainable params: 510\n",
       "Total non-trainable params: 200\n"
      ]
     },
     "execution_count": null,
     "metadata": {},
     "output_type": "execute_result"
    }
   ],
   "source": [
    "class TestModel(nn.Module):\n",
    "    def __init__(self):\n",
    "        super().__init__()\n",
    "        self.linears = nn.Sequential(nn.Linear(1,50), nn.ReLU(), nn.BatchNorm1d(50))\n",
    "        self.classifier = nn.Linear(50, 10)\n",
    "    def forward(self, x):\n",
    "        return self.classifier(self.linears(x))\n",
    "m = TestModel()\n",
    "layers = [*m.linears, m.classifier]\n",
    "freeze_to(layers, -1)\n",
    "sample_input = torch.randn((16, 1))\n",
    "m.summary(sample_input)"
   ]
  },
  {
   "cell_type": "markdown",
   "metadata": {},
   "source": [
    "## Export -"
   ]
  },
  {
   "cell_type": "code",
   "execution_count": null,
   "metadata": {},
   "outputs": [
    {
     "name": "stdout",
     "output_type": "stream",
     "text": [
      "Converted 01_data.core.ipynb.\n",
      "Converted 02_pytorch.transformer.ipynb.\n",
      "Converted 03_pytorch.model.ipynb.\n",
      "Converted 04_callback.optuna.ipynb.\n",
      "Converted Untitled.ipynb.\n",
      "Converted index.ipynb.\n"
     ]
    }
   ],
   "source": [
    "# hide\n",
    "from nbdev.export import notebook2script\n",
    "notebook2script()"
   ]
  },
  {
   "cell_type": "code",
   "execution_count": null,
   "metadata": {},
   "outputs": [],
   "source": []
  }
 ],
 "metadata": {
  "kernelspec": {
   "display_name": "Python 3",
   "language": "python",
   "name": "python3"
  }
 },
 "nbformat": 4,
 "nbformat_minor": 4
}
